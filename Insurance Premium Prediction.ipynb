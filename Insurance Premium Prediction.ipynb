{
 "cells": [
  {
   "cell_type": "markdown",
   "id": "6af344eb",
   "metadata": {},
   "source": [
    "# PREDICTING AMOUNT OF INSURANCE PREMIUM USING MACHINE LEARNING MODELS WITH PYSPARK"
   ]
  },
  {
   "cell_type": "markdown",
   "id": "03872c83",
   "metadata": {},
   "source": [
    "#### About the Dataset\n",
    "This is data on some of the risk factors that are considered during the underwriting process of health insurance. These in turn influence premium amounts that the client will be charged.\n",
    "\n",
    "The variables represent the following:\n",
    "age : age of policyholder\n",
    "\n",
    "sex: gender of policyholder (female=0, male=1)\n",
    "\n",
    "bmi: Body mass index, providing an understanding of body, weights that are relatively high or low relative to height, objective index of body weight (kg / m ^ 2) using the ratio of height to weight, ideally 18.5 to 25 steps: average walking steps per day of policyholder\n",
    "\n",
    "children: number of children / dependents of policyholder\n",
    "\n",
    "smoker: smoking status of policyholder (non-smoke=0;smoker=1)\n",
    "\n",
    "region: the residential area of policyholder in the US (northeast=0, northwest=1, southeast=2, southwest=3)\n",
    "\n",
    "charges: individual premium paid to the insurance company"
   ]
  },
  {
   "cell_type": "markdown",
   "id": "d040ca66",
   "metadata": {},
   "source": [
    "### Load Libraries"
   ]
  },
  {
   "cell_type": "code",
   "execution_count": 1,
   "id": "19c51e1b",
   "metadata": {},
   "outputs": [],
   "source": [
    "# Import  libraries\n",
    "from pyspark.sql import SparkSession\n",
    "\n",
    "import pandas as pd\n",
    "import dataframe_image as dfi\n",
    "import matplotlib.pyplot as plt\n",
    "import seaborn as sns\n",
    "\n",
    "from scipy.stats import spearmanr, pearsonr, norm\n",
    "\n",
    "from pyspark.sql.functions import (col, sum, datediff, to_date, countDistinct, lit, when)\n",
    "from pyspark.sql.types import IntegerType\n",
    "\n",
    "from pyspark.ml.feature import (VectorAssembler, MinMaxScaler, OneHotEncoder,StringIndexer, VectorIndexer)\n",
    "from pyspark.ml import Pipeline\n",
    "from pyspark.ml.tuning import (ParamGridBuilder, TrainValidationSplit)\n",
    "\n",
    "from pyspark.ml.regression import (LinearRegression, RandomForestRegressor, GBTRegressor)\n",
    "\n",
    "from pyspark.ml.evaluation import RegressionEvaluator"
   ]
  },
  {
   "cell_type": "code",
   "execution_count": 2,
   "id": "f6b0450d",
   "metadata": {},
   "outputs": [],
   "source": [
    "# Create a SparkSession\n",
    "spark = SparkSession.builder.appName('data').getOrCreate()"
   ]
  },
  {
   "cell_type": "markdown",
   "id": "86172a38",
   "metadata": {},
   "source": [
    "### Load data"
   ]
  },
  {
   "cell_type": "code",
   "execution_count": 3,
   "id": "a3bce6c9",
   "metadata": {},
   "outputs": [],
   "source": [
    "# load the data into a spark dataframe\n",
    "data = spark.read.csv('underwriting_data.csv', inferSchema=True, header=True)"
   ]
  },
  {
   "cell_type": "code",
   "execution_count": 4,
   "id": "cdee1a62",
   "metadata": {},
   "outputs": [
    {
     "name": "stdout",
     "output_type": "stream",
     "text": [
      "+---+------+------+--------+------+---------+-----------+\n",
      "|age|   sex|   bmi|children|smoker|   region|    charges|\n",
      "+---+------+------+--------+------+---------+-----------+\n",
      "| 19|female|  27.9|       0|   yes|southwest|  16884.924|\n",
      "| 18|  male| 33.77|       1|    no|southeast|  1725.5523|\n",
      "| 28|  male|  33.0|       3|    no|southeast|   4449.462|\n",
      "| 33|  male|22.705|       0|    no|northwest|21984.47061|\n",
      "| 32|  male| 28.88|       0|    no|northwest|  3866.8552|\n",
      "| 31|female| 25.74|       0|    no|southeast|  3756.6216|\n",
      "| 46|female| 33.44|       1|    no|southeast|  8240.5896|\n",
      "| 37|female| 27.74|       3|    no|northwest|  7281.5056|\n",
      "| 37|  male| 29.83|       2|    no|northeast|  6406.4107|\n",
      "| 60|female| 25.84|       0|    no|northwest|28923.13692|\n",
      "| 25|  male| 26.22|       0|    no|northeast|  2721.3208|\n",
      "| 62|female| 26.29|       0|   yes|southeast| 27808.7251|\n",
      "| 23|  male|  34.4|       0|    no|southwest|   1826.843|\n",
      "| 56|female| 39.82|       0|    no|southeast| 11090.7178|\n",
      "| 27|  male| 42.13|       0|   yes|southeast| 39611.7577|\n",
      "| 19|  male|  24.6|       1|    no|southwest|   1837.237|\n",
      "| 52|female| 30.78|       1|    no|northeast| 10797.3362|\n",
      "| 23|  male|23.845|       0|    no|northeast| 2395.17155|\n",
      "| 56|  male|  40.3|       0|    no|southwest|  10602.385|\n",
      "| 30|  male|  35.3|       0|   yes|southwest|  36837.467|\n",
      "+---+------+------+--------+------+---------+-----------+\n",
      "only showing top 20 rows\n",
      "\n"
     ]
    }
   ],
   "source": [
    "# display the first few rows of the data\n",
    "data.show()"
   ]
  },
  {
   "cell_type": "markdown",
   "id": "1a603d01",
   "metadata": {},
   "source": [
    "### Data Pre-processing"
   ]
  },
  {
   "cell_type": "code",
   "execution_count": 5,
   "id": "a9a290da",
   "metadata": {},
   "outputs": [
    {
     "name": "stdout",
     "output_type": "stream",
     "text": [
      "Number of rows: 1338\n",
      "Number of columns: 7\n"
     ]
    }
   ],
   "source": [
    "# check the shape of the loaded data\n",
    "num_rows = data.count()\n",
    "num_cols = len(data.columns)\n",
    "\n",
    "# print out the shape\n",
    "print(\"Number of rows:\", num_rows)\n",
    "print(\"Number of columns:\", num_cols)"
   ]
  },
  {
   "cell_type": "code",
   "execution_count": 6,
   "id": "06b1fb82",
   "metadata": {},
   "outputs": [
    {
     "name": "stdout",
     "output_type": "stream",
     "text": [
      "root\n",
      " |-- age: integer (nullable = true)\n",
      " |-- sex: string (nullable = true)\n",
      " |-- bmi: double (nullable = true)\n",
      " |-- children: integer (nullable = true)\n",
      " |-- smoker: string (nullable = true)\n",
      " |-- region: string (nullable = true)\n",
      " |-- charges: double (nullable = true)\n",
      "\n"
     ]
    }
   ],
   "source": [
    "# check the data types of the variables in the dataframe\n",
    "data.printSchema()"
   ]
  },
  {
   "cell_type": "code",
   "execution_count": 7,
   "id": "6ab3cfcd",
   "metadata": {},
   "outputs": [
    {
     "data": {
      "text/plain": [
       "['age', 'sex', 'bmi', 'children', 'smoker', 'region', 'charges']"
      ]
     },
     "execution_count": 7,
     "metadata": {},
     "output_type": "execute_result"
    }
   ],
   "source": [
    "# check the columns \n",
    "data.columns"
   ]
  },
  {
   "cell_type": "markdown",
   "id": "08bfa087",
   "metadata": {},
   "source": [
    "### Data Cleaning\n",
    "Here we will handle any missing values if available, duplicates and also check for any inconsistencies in the data."
   ]
  },
  {
   "cell_type": "markdown",
   "id": "8cbe5be0",
   "metadata": {},
   "source": [
    "###### Missing values"
   ]
  },
  {
   "cell_type": "code",
   "execution_count": 8,
   "id": "1372305b",
   "metadata": {},
   "outputs": [
    {
     "data": {
      "text/html": [
       "<div>\n",
       "<style scoped>\n",
       "    .dataframe tbody tr th:only-of-type {\n",
       "        vertical-align: middle;\n",
       "    }\n",
       "\n",
       "    .dataframe tbody tr th {\n",
       "        vertical-align: top;\n",
       "    }\n",
       "\n",
       "    .dataframe thead th {\n",
       "        text-align: right;\n",
       "    }\n",
       "</style>\n",
       "<table border=\"1\" class=\"dataframe\">\n",
       "  <thead>\n",
       "    <tr style=\"text-align: right;\">\n",
       "      <th></th>\n",
       "      <th>age_missing</th>\n",
       "      <th>sex_missing</th>\n",
       "      <th>bmi_missing</th>\n",
       "      <th>children_missing</th>\n",
       "      <th>smoker_missing</th>\n",
       "      <th>region_missing</th>\n",
       "      <th>charges_missing</th>\n",
       "    </tr>\n",
       "  </thead>\n",
       "  <tbody>\n",
       "    <tr>\n",
       "      <th>0</th>\n",
       "      <td>0</td>\n",
       "      <td>0</td>\n",
       "      <td>0</td>\n",
       "      <td>0</td>\n",
       "      <td>0</td>\n",
       "      <td>0</td>\n",
       "      <td>0</td>\n",
       "    </tr>\n",
       "  </tbody>\n",
       "</table>\n",
       "</div>"
      ],
      "text/plain": [
       "   age_missing  sex_missing  bmi_missing  children_missing  smoker_missing  \\\n",
       "0            0            0            0                 0               0   \n",
       "\n",
       "   region_missing  charges_missing  \n",
       "0               0                0  "
      ]
     },
     "execution_count": 8,
     "metadata": {},
     "output_type": "execute_result"
    }
   ],
   "source": [
    "# check for missing values\n",
    "missing_values = data.agg(*[\n",
    "    sum(col(column).isNull().cast(\"integer\")).alias(column + \"_missing\") \n",
    "    for column in data.columns\n",
    "])\n",
    "\n",
    "missing_values.toPandas()"
   ]
  },
  {
   "cell_type": "markdown",
   "id": "3f692c42",
   "metadata": {},
   "source": [
    "###### Observation:\n",
    "There are no missing values in the data."
   ]
  },
  {
   "cell_type": "markdown",
   "id": "a64f2131",
   "metadata": {},
   "source": [
    "###### Check for duplicates"
   ]
  },
  {
   "cell_type": "code",
   "execution_count": 9,
   "id": "fac9faf1",
   "metadata": {},
   "outputs": [
    {
     "name": "stdout",
     "output_type": "stream",
     "text": [
      "+---+----+-----+--------+------+---------+---------+-----+\n",
      "|age| sex|  bmi|children|smoker|   region|  charges|count|\n",
      "+---+----+-----+--------+------+---------+---------+-----+\n",
      "| 19|male|30.59|       0|    no|northwest|1639.5631|    2|\n",
      "+---+----+-----+--------+------+---------+---------+-----+\n",
      "\n"
     ]
    }
   ],
   "source": [
    "# Group by all columns and count the number of occurrences\n",
    "duplicate_rows = data.groupBy(data.columns).count().filter(col(\"count\") > 1)\n",
    "\n",
    "# Show the duplicate rows\n",
    "duplicate_rows.show()"
   ]
  },
  {
   "cell_type": "code",
   "execution_count": 10,
   "id": "6caec9ed",
   "metadata": {},
   "outputs": [
    {
     "name": "stdout",
     "output_type": "stream",
     "text": [
      "Number of rows before dropping duplicates: 1338\n",
      "Number of rows after dropping duplicates: 1337\n"
     ]
    }
   ],
   "source": [
    "# print out the shape before dropping duplicates\n",
    "print(\"Number of rows before dropping duplicates:\", data.count())\n",
    "\n",
    "# Drop duplicates based on all columns\n",
    "data = data.dropDuplicates()\n",
    "\n",
    "# print out the shape after dropping duplicates\n",
    "print(\"Number of rows after dropping duplicates:\", data.count())"
   ]
  },
  {
   "cell_type": "markdown",
   "id": "e8c41cda",
   "metadata": {},
   "source": [
    "###### Check for outliers in the target variable"
   ]
  },
  {
   "cell_type": "code",
   "execution_count": 11,
   "id": "0a0410db",
   "metadata": {},
   "outputs": [
    {
     "name": "stdout",
     "output_type": "stream",
     "text": [
      "Number of outliers: 154\n",
      "+---+------+------+--------+------+---------+-----------+\n",
      "|age|   sex|   bmi|children|smoker|   region|    charges|\n",
      "+---+------+------+--------+------+---------+-----------+\n",
      "| 60|  male|  39.9|       0|   yes|southwest|  48173.361|\n",
      "| 48|  male|40.565|       2|   yes|northwest|45702.02235|\n",
      "| 44|female| 43.89|       2|   yes|southeast| 46200.9851|\n",
      "| 43|  male|  27.8|       0|   yes|southwest| 37829.7242|\n",
      "| 33|female|  33.5|       0|   yes|southwest|  37079.372|\n",
      "| 57|  male| 42.13|       1|   yes|southeast| 48675.5177|\n",
      "| 60|  male|  32.8|       0|   yes|southwest|52590.82939|\n",
      "| 23|female| 42.75|       1|   yes|northeast| 40904.1995|\n",
      "| 55|female|  26.8|       1|    no|southwest|35160.13457|\n",
      "| 50|  male|  34.2|       2|   yes|southwest|  42856.838|\n",
      "| 25|female|  30.2|       0|   yes|southwest|  33900.653|\n",
      "| 28|  male|  36.4|       1|   yes|southwest|51194.55914|\n",
      "| 36|  male| 34.43|       0|   yes|southeast| 37742.5757|\n",
      "| 34|female| 30.21|       1|   yes|northwest| 43943.8761|\n",
      "| 22|female| 31.02|       3|   yes|southeast| 35595.5898|\n",
      "| 20|  male|35.625|       3|   yes|northwest|37465.34375|\n",
      "| 61|female| 33.33|       4|    no|southeast|36580.28216|\n",
      "| 19|female| 32.49|       0|   yes|northwest|36898.73308|\n",
      "| 63|female|  37.7|       0|   yes|southwest|   48824.45|\n",
      "| 46|  male|30.495|       3|   yes|northwest|40720.55105|\n",
      "+---+------+------+--------+------+---------+-----------+\n",
      "only showing top 20 rows\n",
      "\n"
     ]
    }
   ],
   "source": [
    "# Calculate quartiles and IQR\n",
    "quartiles = data.approxQuantile(\"charges\", [0.25, 0.75], 0.01)\n",
    "q1 = quartiles[0]\n",
    "q3 = quartiles[1]\n",
    "iqr = q3 - q1\n",
    "\n",
    "# Define the lower and upper bounds for outliers\n",
    "lower_bound = q1 - 1.5 * iqr\n",
    "upper_bound = q3 + 1.5 * iqr\n",
    "\n",
    "# Filter the DataFrame to find outliers\n",
    "outliers = data.filter((col(\"charges\") < lower_bound) | (col(\"charges\") > upper_bound))\n",
    "\n",
    "# print the number of outliers\n",
    "print(\"Number of outliers:\", outliers.count())\n",
    "\n",
    "# Show the outliers\n",
    "outliers.show()"
   ]
  },
  {
   "cell_type": "markdown",
   "id": "7b2f7c08",
   "metadata": {},
   "source": [
    "###### Observation:\n",
    "There are 154 duplicates. This shows that several policyholders were paying high premiums based on the assessed risk factors. We will just keep these values."
   ]
  },
  {
   "cell_type": "markdown",
   "id": "b13e7dc6",
   "metadata": {},
   "source": [
    "### Exploratory Data Analysis"
   ]
  },
  {
   "cell_type": "markdown",
   "id": "1ead1d25",
   "metadata": {},
   "source": [
    "###### Descriptive statistics"
   ]
  },
  {
   "cell_type": "code",
   "execution_count": 12,
   "id": "40678c72",
   "metadata": {},
   "outputs": [
    {
     "name": "stdout",
     "output_type": "stream",
     "text": [
      "+-------+------------------+------+------------------+------------------+------+---------+------------------+\n",
      "|summary|               age|   sex|               bmi|          children|smoker|   region|           charges|\n",
      "+-------+------------------+------+------------------+------------------+------+---------+------------------+\n",
      "|  count|              1337|  1337|              1337|              1337|  1337|     1337|              1337|\n",
      "|   mean|39.222139117427076|  null|30.663451757666405|1.0957367240089753|  null|     null|13279.121486655959|\n",
      "| stddev|14.044332734156425|  null| 6.100468409615797|1.2055714286412178|  null|     null|12110.359656344168|\n",
      "|    min|                18|female|             15.96|                 0|    no|northeast|         1121.8739|\n",
      "|    max|                64|  male|             53.13|                 5|   yes|southwest|       63770.42801|\n",
      "+-------+------------------+------+------------------+------------------+------+---------+------------------+\n",
      "\n"
     ]
    }
   ],
   "source": [
    "# Descriptive statistics\n",
    "descriptive_stats = data.describe()\n",
    "\n",
    "# Show the descriptive statistics\n",
    "descriptive_stats.show()"
   ]
  },
  {
   "cell_type": "markdown",
   "id": "fa6ed27a",
   "metadata": {},
   "source": [
    "###### Data visualization"
   ]
  },
  {
   "cell_type": "code",
   "execution_count": 13,
   "id": "0ab7e6fe",
   "metadata": {},
   "outputs": [
    {
     "data": {
      "image/png": "[encoded data removed]",
      "text/plain": [
       "<Figure size 1000x500 with 3 Axes>"
      ]
     },
     "metadata": {},
     "output_type": "display_data"
    }
   ],
   "source": [
    "#Distribution plots\n",
    "fig, axes = plt.subplots(2, 2, figsize=(10, 5))\n",
    "\n",
    "sns.histplot(data.toPandas().age, stat=\"density\", ax=axes[0, 0], kde=True)\n",
    "sns.histplot(data.toPandas().bmi, stat=\"density\", ax=axes[0, 1], kde=True)\n",
    "sns.histplot(data.toPandas().charges, stat=\"density\", ax=axes[1, 0], kde=True)\n",
    "\n",
    "# set the spacing between subplots\n",
    "plt.subplots_adjust(left=0.1,\n",
    "                    bottom=0.1, \n",
    "                    right=0.9, \n",
    "                    top=0.9, \n",
    "                    wspace=0.4, \n",
    "                    hspace=0.4)\n",
    "\n",
    "fig.delaxes(axes[1, 1])\n",
    "plt.show();\n",
    "\n",
    "# save the figure\n",
    "fig.savefig(\"distributionplots.png\")"
   ]
  },
  {
   "cell_type": "markdown",
   "id": "169455c5",
   "metadata": {},
   "source": [
    "###### Observation:\n",
    "`age` is approximately uniformly distributed.\n",
    "\n",
    "The `bmi` of policyholders is normally distributed.\n",
    "\n",
    "The amount of `charges` that the policyholders pay to the insurer is skewed to the right. There are a higher number of premiums that are below $20000."
   ]
  },
  {
   "cell_type": "code",
   "execution_count": 14,
   "id": "51538b63",
   "metadata": {},
   "outputs": [
    {
     "data": {
      "image/png": "[encoded data removed]",
      "text/plain": [
       "<Figure size 1000x500 with 3 Axes>"
      ]
     },
     "metadata": {},
     "output_type": "display_data"
    }
   ],
   "source": [
    "#Boxplot to check for outliers\n",
    "fig, axes = plt.subplots(2, 2, figsize=(10, 5))\n",
    "\n",
    "sns.boxplot(x=\"charges\", data=data.toPandas(), ax=axes[0, 0])\n",
    "sns.boxplot(x=\"age\", data=data.toPandas(), ax=axes[0, 1])\n",
    "sns.boxplot(x=\"bmi\", data=data.toPandas(), ax=axes[1, 0])\n",
    "\n",
    "# set the spacing between subplots\n",
    "plt.subplots_adjust(left=0.1,\n",
    "                    bottom=0.1, \n",
    "                    right=0.9, \n",
    "                    top=1.0, \n",
    "                    wspace=0.4, \n",
    "                    hspace=0.4)\n",
    "\n",
    "fig.delaxes(axes[1, 1])\n",
    "plt.show();\n",
    "\n",
    "# save the figure\n",
    "fig.savefig(\"boxplots.png\")"
   ]
  },
  {
   "cell_type": "markdown",
   "id": "2c0b4552",
   "metadata": {},
   "source": [
    "###### Observation:\n",
    "`charges` and `bmi` have several outliers."
   ]
  },
  {
   "cell_type": "code",
   "execution_count": 15,
   "id": "5a347d45",
   "metadata": {},
   "outputs": [
    {
     "data": {
      "image/png": "[encoded data removed]",
      "text/plain": [
       "<Figure size 1000x500 with 3 Axes>"
      ]
     },
     "metadata": {},
     "output_type": "display_data"
    }
   ],
   "source": [
    "# How are the categorical variables distributed by numbers in the data\n",
    "fig, axes = plt.subplots(2, 2, figsize=(10, 5))\n",
    "\n",
    "sns.histplot(x='sex', data=data.toPandas(), multiple=\"dodge\", ax = axes[0, 0], shrink=.4)\n",
    "sns.histplot(x='smoker', data=data.toPandas(), multiple=\"dodge\", ax = axes[0, 1], shrink=.4)\n",
    "sns.histplot(x='region', data=data.toPandas(), multiple=\"dodge\", ax = axes[1, 0], shrink=.4)\n",
    "\n",
    "# set the spacing between subplots\n",
    "plt.subplots_adjust(left=0.1,\n",
    "                    bottom=0.1, \n",
    "                    right=0.9, \n",
    "                    top=1.0, \n",
    "                    wspace=0.4, \n",
    "                    hspace=0.4)\n",
    "\n",
    "fig.delaxes(axes[1, 1])\n",
    "plt.show();\n",
    "\n",
    "# save the figure\n",
    "fig.savefig(\"histplots.png\")"
   ]
  },
  {
   "cell_type": "markdown",
   "id": "5fe81b28",
   "metadata": {},
   "source": [
    "###### Observation:\n",
    "`males` and `females` take up insurance almost equally.\n",
    "\n",
    "The majority of the policyholders were non-smokers.\n",
    "\n",
    "The policyholders were evenly distributed across the 4 regions."
   ]
  },
  {
   "cell_type": "markdown",
   "id": "40b56fec",
   "metadata": {},
   "source": [
    "###### Correlation matrix"
   ]
  },
  {
   "cell_type": "code",
   "execution_count": 16,
   "id": "e1135d15",
   "metadata": {},
   "outputs": [
    {
     "data": {
      "image/png": "[encoded data removed]",
      "text/plain": [
       "<Figure size 1200x600 with 2 Axes>"
      ]
     },
     "metadata": {},
     "output_type": "display_data"
    }
   ],
   "source": [
    "# Correlation matrix\n",
    "fig, ax = plt.subplots(figsize=(12, 6))\n",
    "correlation = data.toPandas().corr()\n",
    "\n",
    "# plot the correlation matrix\n",
    "sns.heatmap(correlation, annot=True);\n",
    "\n",
    "# save the figure\n",
    "fig.savefig(\"correlationmatrix.png\")"
   ]
  },
  {
   "cell_type": "markdown",
   "id": "3b2171cb",
   "metadata": {},
   "source": [
    "###### Observation:\n",
    "`age`, `bmi`, and `children` have low positive correlation with the target variable. \n",
    "\n",
    "There is no serious correlation between the independent features."
   ]
  },
  {
   "cell_type": "markdown",
   "id": "b118da42",
   "metadata": {},
   "source": [
    "### Data Transformation\n",
    "Some columns have the `string` data type. We need to convert them to numerical format by assigning a unique numerical index to each distinct value in a string/categorical column."
   ]
  },
  {
   "cell_type": "code",
   "execution_count": 17,
   "id": "3c00fccc",
   "metadata": {},
   "outputs": [
    {
     "name": "stdout",
     "output_type": "stream",
     "text": [
      "+----------------+-------------------+-------------------+\n",
      "|sex_unique_count|smoker_unique_count|region_unique_count|\n",
      "+----------------+-------------------+-------------------+\n",
      "|               2|                  2|                  4|\n",
      "+----------------+-------------------+-------------------+\n",
      "\n"
     ]
    }
   ],
   "source": [
    "# count the number of unique values for every string column\n",
    "unique_counts = data.select(*[\n",
    "    countDistinct(col(column)).alias(column + \"_unique_count\") \n",
    "    for column, dtype in data.dtypes \n",
    "    if dtype == \"string\"\n",
    "])\n",
    "\n",
    "unique_counts.show()"
   ]
  },
  {
   "cell_type": "code",
   "execution_count": 18,
   "id": "7d793a65",
   "metadata": {},
   "outputs": [],
   "source": [
    "# create transformer for sex variable\n",
    "sex_indexer = StringIndexer(inputCol='sex', outputCol='sexIndex')\n",
    "\n",
    "# transform to numbers\n",
    "data = sex_indexer.fit(data).transform(data)"
   ]
  },
  {
   "cell_type": "code",
   "execution_count": 19,
   "id": "454269e3",
   "metadata": {},
   "outputs": [],
   "source": [
    "# create transformer for smoker variable\n",
    "smoker_indexer = StringIndexer(inputCol='smoker', outputCol='smokerIndex')\n",
    "\n",
    "# transform to numbers\n",
    "data = smoker_indexer.fit(data).transform(data)"
   ]
  },
  {
   "cell_type": "code",
   "execution_count": 20,
   "id": "6e2e087e",
   "metadata": {},
   "outputs": [],
   "source": [
    "# create transformer for region variable\n",
    "region_indexer = StringIndexer(inputCol='region', outputCol='regionIndex')\n",
    "\n",
    "# transform to numbers\n",
    "data = region_indexer.fit(data).transform(data)"
   ]
  },
  {
   "cell_type": "markdown",
   "id": "a7861d80",
   "metadata": {},
   "source": [
    "### Statistical Correlation Analysis\n",
    "Let's look at the correlation of the all independent variables with our target variable using `correlation coefficient` and the `p-value` to confirm if any statistically significant correlation exists.\n",
    "\n",
    "If the `p-value` is greater than `0.05`, then the variable is not significantly correlated with the target variable."
   ]
  },
  {
   "cell_type": "code",
   "execution_count": 21,
   "id": "ccdedcec",
   "metadata": {},
   "outputs": [
    {
     "name": "stdout",
     "output_type": "stream",
     "text": [
      "Correlation coefficient is: 0.2983\n",
      "Its p-value is: 0.0\n"
     ]
    }
   ],
   "source": [
    "# age vs charges\n",
    "cor = pearsonr(data.toPandas().age, data.toPandas().charges)\n",
    "\n",
    "age_coef = round(cor[0], 4)\n",
    "age_pv = round(cor[1], 6)\n",
    "age_cor_stat = [age_coef, age_pv]\n",
    "\n",
    "print(\"Correlation coefficient is: {}\".format(round(cor[0], 4)))\n",
    "print(\"Its p-value is: {}\".format(round(cor[1], 6)))"
   ]
  },
  {
   "cell_type": "code",
   "execution_count": 22,
   "id": "61bf5a1e",
   "metadata": {},
   "outputs": [
    {
     "name": "stdout",
     "output_type": "stream",
     "text": [
      "Correlation coefficient is: 0.1984\n",
      "Its p-value is: 0.0\n"
     ]
    }
   ],
   "source": [
    "# bmi vs charges\n",
    "cor = pearsonr(data.toPandas().bmi, data.toPandas().charges)\n",
    "\n",
    "bmi_coef = round(cor[0], 4)\n",
    "bmi_pv = round(cor[1], 6)\n",
    "bmi_cor_stat = [bmi_coef, bmi_pv]\n",
    "\n",
    "print(\"Correlation coefficient is: {}\".format(round(cor[0], 4)))\n",
    "print(\"Its p-value is: {}\".format(round(cor[1], 6)))"
   ]
  },
  {
   "cell_type": "code",
   "execution_count": 23,
   "id": "62498fd3",
   "metadata": {},
   "outputs": [
    {
     "name": "stdout",
     "output_type": "stream",
     "text": [
      "Correlation coefficient is: 0.0674\n",
      "Its p-value is: 0.013717\n"
     ]
    }
   ],
   "source": [
    "# children vs charges\n",
    "cor = pearsonr(data.toPandas().children, data.toPandas().charges)\n",
    "\n",
    "children_coef = round(cor[0], 4)\n",
    "children_pv = round(cor[1], 6)\n",
    "children_cor_stat = [children_coef, children_pv]\n",
    "\n",
    "print(\"Correlation coefficient is: {}\".format(round(cor[0], 4)))\n",
    "print(\"Its p-value is: {}\".format(round(cor[1], 6)))"
   ]
  },
  {
   "cell_type": "code",
   "execution_count": 24,
   "id": "8f796c1c",
   "metadata": {},
   "outputs": [
    {
     "name": "stdout",
     "output_type": "stream",
     "text": [
      "Correlation coefficient is: -0.058\n",
      "Its p-value is: 0.033821\n"
     ]
    }
   ],
   "source": [
    "# sex vs charges\n",
    "cor = pearsonr(data.toPandas().sexIndex, data.toPandas().charges)\n",
    "\n",
    "sex_coef = round(cor[0], 4)\n",
    "sex_pv = round(cor[1], 6)\n",
    "sex_cor_stat = [sex_coef, sex_pv]\n",
    "\n",
    "print(\"Correlation coefficient is: {}\".format(round(cor[0], 4)))\n",
    "print(\"Its p-value is: {}\".format(round(cor[1], 6)))"
   ]
  },
  {
   "cell_type": "code",
   "execution_count": 25,
   "id": "9782ea99",
   "metadata": {},
   "outputs": [
    {
     "name": "stdout",
     "output_type": "stream",
     "text": [
      "Correlation coefficient is: 0.7872\n",
      "Its p-value is: 0.0\n"
     ]
    }
   ],
   "source": [
    "# smoker vs charges\n",
    "cor = pearsonr(data.toPandas().smokerIndex, data.toPandas().charges)\n",
    "\n",
    "smoker_coef = round(cor[0], 4)\n",
    "smoker_pv = round(cor[1], 6)\n",
    "smoker_cor_stat = [smoker_coef, smoker_pv]\n",
    "\n",
    "print(\"Correlation coefficient is: {}\".format(round(cor[0], 4)))\n",
    "print(\"Its p-value is: {}\".format(round(cor[1], 6)))"
   ]
  },
  {
   "cell_type": "code",
   "execution_count": 26,
   "id": "c7c67905",
   "metadata": {},
   "outputs": [
    {
     "name": "stdout",
     "output_type": "stream",
     "text": [
      "Correlation coefficient is: -0.0561\n",
      "Its p-value is: 0.040376\n"
     ]
    }
   ],
   "source": [
    "# region vs charges\n",
    "cor = pearsonr(data.toPandas().regionIndex, data.toPandas().charges)\n",
    "\n",
    "region_coef = round(cor[0], 4)\n",
    "region_pv = round(cor[1], 6)\n",
    "region_cor_stat = [region_coef, region_pv]\n",
    "\n",
    "print(\"Correlation coefficient is: {}\".format(round(cor[0], 4)))\n",
    "print(\"Its p-value is: {}\".format(round(cor[1], 6)))"
   ]
  },
  {
   "cell_type": "code",
   "execution_count": 27,
   "id": "c155443c",
   "metadata": {},
   "outputs": [
    {
     "data": {
      "text/html": [
       "<div>\n",
       "<style scoped>\n",
       "    .dataframe tbody tr th:only-of-type {\n",
       "        vertical-align: middle;\n",
       "    }\n",
       "\n",
       "    .dataframe tbody tr th {\n",
       "        vertical-align: top;\n",
       "    }\n",
       "\n",
       "    .dataframe thead th {\n",
       "        text-align: right;\n",
       "    }\n",
       "</style>\n",
       "<table border=\"1\" class=\"dataframe\">\n",
       "  <thead>\n",
       "    <tr style=\"text-align: right;\">\n",
       "      <th></th>\n",
       "      <th>age</th>\n",
       "      <th>sex</th>\n",
       "      <th>bmi</th>\n",
       "      <th>children</th>\n",
       "      <th>smoker</th>\n",
       "      <th>region</th>\n",
       "    </tr>\n",
       "  </thead>\n",
       "  <tbody>\n",
       "    <tr>\n",
       "      <th>Correlation coefficient with insuranceclaim</th>\n",
       "      <td>0.2983</td>\n",
       "      <td>-0.058000</td>\n",
       "      <td>0.1984</td>\n",
       "      <td>0.067400</td>\n",
       "      <td>0.7872</td>\n",
       "      <td>-0.056100</td>\n",
       "    </tr>\n",
       "    <tr>\n",
       "      <th>P-value</th>\n",
       "      <td>0.0000</td>\n",
       "      <td>0.033821</td>\n",
       "      <td>0.0000</td>\n",
       "      <td>0.013717</td>\n",
       "      <td>0.0000</td>\n",
       "      <td>0.040376</td>\n",
       "    </tr>\n",
       "  </tbody>\n",
       "</table>\n",
       "</div>"
      ],
      "text/plain": [
       "                                                age       sex     bmi  \\\n",
       "Correlation coefficient with insuranceclaim  0.2983 -0.058000  0.1984   \n",
       "P-value                                      0.0000  0.033821  0.0000   \n",
       "\n",
       "                                             children  smoker    region  \n",
       "Correlation coefficient with insuranceclaim  0.067400  0.7872 -0.056100  \n",
       "P-value                                      0.013717  0.0000  0.040376  "
      ]
     },
     "execution_count": 27,
     "metadata": {},
     "output_type": "execute_result"
    }
   ],
   "source": [
    "# create a dataframe combining the correlation coefficient and p-value for all variables\n",
    "features_target_corr = pd.DataFrame({\n",
    "    \"age\": age_cor_stat,\n",
    "    \"sex\": sex_cor_stat,\n",
    "    \"bmi\": bmi_cor_stat,\n",
    "    \"children\": children_cor_stat,\n",
    "    \"smoker\": smoker_cor_stat,\n",
    "    \"region\": region_cor_stat\n",
    "},\n",
    "    index = [\"Correlation coefficient with insuranceclaim\", \"P-value\"]\n",
    ")\n",
    "\n",
    "# save the dataframe as an image\n",
    "dfi.export(features_target_corr, \"features_target_corr.png\")\n",
    "\n",
    "features_target_corr"
   ]
  },
  {
   "cell_type": "markdown",
   "id": "3a5e7f30",
   "metadata": {},
   "source": [
    "###### Observation:\n",
    "We can see that `age`, `bmi`, `children`, `smoker`, `sex`, and `region` all have statistically significant correlation with the target variable, `charges`."
   ]
  },
  {
   "cell_type": "markdown",
   "id": "11b8438a",
   "metadata": {},
   "source": [
    "### OneHot Encoding\n",
    "OneHot Encoding converts each categorical index into a binary vector where only one element is 1 (indicating the presence of the category) and the rest are 0s."
   ]
  },
  {
   "cell_type": "code",
   "execution_count": 28,
   "id": "ffc2b24d",
   "metadata": {},
   "outputs": [],
   "source": [
    "# create feature transformer for sex variable\n",
    "sex_encoder = OneHotEncoder(inputCol='sexIndex', outputCol='sexVec')"
   ]
  },
  {
   "cell_type": "code",
   "execution_count": 29,
   "id": "a82b7036",
   "metadata": {},
   "outputs": [],
   "source": [
    "# create feature transformer for smoker variable\n",
    "smoker_encoder = OneHotEncoder(inputCol='smokerIndex', outputCol='smokerVec')"
   ]
  },
  {
   "cell_type": "code",
   "execution_count": 30,
   "id": "99fa3154",
   "metadata": {},
   "outputs": [],
   "source": [
    "# create feature transformer for region variable\n",
    "region_encoder = OneHotEncoder(inputCol='regionIndex', outputCol='regionVec')"
   ]
  },
  {
   "cell_type": "markdown",
   "id": "ad8eb5e9",
   "metadata": {},
   "source": [
    "### Feature Selection\n",
    "We select the original numerical variables and transformed variables.\n",
    "These will be our features (independent variables) when building the models."
   ]
  },
  {
   "cell_type": "code",
   "execution_count": 31,
   "id": "68e82361",
   "metadata": {},
   "outputs": [],
   "source": [
    "# Feature selection and transformation\n",
    "assembler = VectorAssembler(inputCols=['age', 'bmi', 'children', \n",
    "                                       'sexVec', 'smokerVec','regionVec'],\n",
    "                            outputCol='features')"
   ]
  },
  {
   "cell_type": "markdown",
   "id": "13d582c5",
   "metadata": {},
   "source": [
    "### Data Normalization\n",
    "Normalizing the data ensures that all features are on a similar scale, preventing any one feature from dominating the model's learning process. Moreover, it will help ensure that all features are equally considered by the regression model.  \n",
    "This will lead to improved performance of the regression models."
   ]
  },
  {
   "cell_type": "code",
   "execution_count": 32,
   "id": "48848c30",
   "metadata": {},
   "outputs": [],
   "source": [
    "# normalize the data\n",
    "scaler = MinMaxScaler(inputCol=\"features\", outputCol=\"scaledFeatures\")"
   ]
  },
  {
   "cell_type": "markdown",
   "id": "738d82e0",
   "metadata": {},
   "source": [
    "### Create a pipeline for data transformation, feature selection and data normalization\n",
    "A pipeline will encapsulate the preprocessing operations mentioned above and enable us to apply the same operations to both the training and test datasets.\n",
    "This makes transformation easy and helps avoid repetition."
   ]
  },
  {
   "cell_type": "code",
   "execution_count": 33,
   "id": "81c6fbbc",
   "metadata": {},
   "outputs": [],
   "source": [
    "# create a pipeline to transform the data\n",
    "pipeline = Pipeline(stages=[sex_encoder, smoker_encoder, region_encoder,\n",
    "                            assembler, scaler])\n",
    "\n",
    "# Fit the pipeline to the insurance data\n",
    "pipelineModel = pipeline.fit(data)"
   ]
  },
  {
   "cell_type": "markdown",
   "id": "53dfc244",
   "metadata": {},
   "source": [
    "### Transform the data"
   ]
  },
  {
   "cell_type": "code",
   "execution_count": 34,
   "id": "cef99c76",
   "metadata": {},
   "outputs": [],
   "source": [
    "# Transform the training dataset\n",
    "data = pipelineModel.transform(data)"
   ]
  },
  {
   "cell_type": "markdown",
   "id": "78e7d176",
   "metadata": {},
   "source": [
    "### Model Building\n",
    "- We will build 3 different models and select the model that is more accurate in forecasting the premium.\n",
    "\n",
    "##### Model Evaluation\n",
    "I will use two metrics to evaluate the performance of the models:\n",
    "1. R-squared (coefficient of determination)\n",
    "- R-squared measures the proportion of the variance in the target variable that is explained by the regression model. Higher values of R-squared indicate a better fit.\n",
    "2. Root Mean Squared Error (RMSE)\n",
    "- The RMSE computes the average magnitude of the residuals (the difference between expected and actual values). Lower values indicate greater performance, and it gives a broad indication of how accurately the model can predict the future."
   ]
  },
  {
   "cell_type": "markdown",
   "id": "adbdf143",
   "metadata": {},
   "source": [
    "##### Split the data into training set and test set"
   ]
  },
  {
   "cell_type": "code",
   "execution_count": 35,
   "id": "3b19b514",
   "metadata": {},
   "outputs": [],
   "source": [
    "# Split the data into training and test sets\n",
    "trainData, testData = data.randomSplit([0.8, 0.2], seed=42)"
   ]
  },
  {
   "cell_type": "markdown",
   "id": "9e470681",
   "metadata": {},
   "source": [
    "###### Modeling"
   ]
  },
  {
   "cell_type": "markdown",
   "id": "d43ba542",
   "metadata": {},
   "source": [
    "###### 1. Linear Regression Model"
   ]
  },
  {
   "cell_type": "code",
   "execution_count": 36,
   "id": "76a1f421",
   "metadata": {},
   "outputs": [],
   "source": [
    "# instantiate linear regression model\n",
    "lr = LinearRegression(featuresCol=\"scaledFeatures\", labelCol=\"charges\")\n",
    "    \n",
    "# Train the model\n",
    "lrModel = lr.fit(trainData)"
   ]
  },
  {
   "cell_type": "code",
   "execution_count": 37,
   "id": "4f8e7977",
   "metadata": {},
   "outputs": [
    {
     "name": "stdout",
     "output_type": "stream",
     "text": [
      "LR Model RMSE: 6106.6511423430675\n",
      "LR Model R2: 0.744235833453984\n"
     ]
    }
   ],
   "source": [
    "# evaluate the model\n",
    "RMSEevaluator = RegressionEvaluator(labelCol=\"charges\", predictionCol=\"prediction\", metricName=\"rmse\")\n",
    "R2evaluator = RegressionEvaluator(labelCol=\"charges\", predictionCol=\"prediction\", metricName=\"r2\")\n",
    "\n",
    "# make predictions using the test set\n",
    "lrPredictions = lrModel.transform(testData)\n",
    "lrRMSE = RMSEevaluator.evaluate(lrPredictions)\n",
    "lrR2 = R2evaluator.evaluate(lrPredictions)\n",
    "\n",
    "# Print the model's RMSE and R2\n",
    "print(\"LR Model RMSE:\", lrRMSE)\n",
    "print(\"LR Model R2:\", lrR2)"
   ]
  },
  {
   "cell_type": "markdown",
   "id": "2da28e3d",
   "metadata": {},
   "source": [
    "###### Observation:\n",
    "The model is fairly good in predicting premium."
   ]
  },
  {
   "cell_type": "markdown",
   "id": "6ac1bcaf",
   "metadata": {},
   "source": [
    "###### 2. Random Forest Regression Model"
   ]
  },
  {
   "cell_type": "code",
   "execution_count": 38,
   "id": "c87fa002",
   "metadata": {},
   "outputs": [],
   "source": [
    "# instantiate random forest regression model\n",
    "rf = RandomForestRegressor(featuresCol=\"scaledFeatures\", labelCol=\"charges\")\n",
    "\n",
    "# do hyperparameter tuning\n",
    "rfTvs = TrainValidationSplit(\n",
    "        estimator=rf,\n",
    "        estimatorParamMaps=ParamGridBuilder().addGrid(RandomForestRegressor.numTrees, list(range(10, 60, 10))).build(), # number of trees\n",
    "        evaluator=RegressionEvaluator(labelCol=\"charges\", predictionCol=\"prediction\", metricName=\"rmse\"), # use rmse\n",
    "        trainRatio=0.8\n",
    "    )\n",
    "    \n",
    "# Train the model\n",
    "rfModel = rfTvs.fit(trainData)"
   ]
  },
  {
   "cell_type": "code",
   "execution_count": 39,
   "id": "bf767892",
   "metadata": {},
   "outputs": [
    {
     "name": "stdout",
     "output_type": "stream",
     "text": [
      "RF Model RMSE: 5131.296955398069\n",
      "RF Model R2: 0.819412463171946\n"
     ]
    }
   ],
   "source": [
    "# evaluate the model\n",
    "RMSEevaluator = RegressionEvaluator(labelCol=\"charges\", predictionCol=\"prediction\", metricName=\"rmse\")\n",
    "R2evaluator = RegressionEvaluator(labelCol=\"charges\", predictionCol=\"prediction\", metricName=\"r2\")\n",
    "\n",
    "# make predictions using the test set\n",
    "rfPredictions = rfModel.transform(testData)\n",
    "rfRMSE = RMSEevaluator.evaluate(rfPredictions)\n",
    "rfR2 = R2evaluator.evaluate(rfPredictions)\n",
    "\n",
    "# Print the model's RMSE and R2\n",
    "print(\"RF Model RMSE:\", rfRMSE)\n",
    "print(\"RF Model R2:\", rfR2)"
   ]
  },
  {
   "cell_type": "markdown",
   "id": "9f24eea0",
   "metadata": {},
   "source": [
    "###### Observation:\n",
    "The model is quite good at forecasting the premium charged those taking up insurance."
   ]
  },
  {
   "cell_type": "markdown",
   "id": "10a948b0",
   "metadata": {},
   "source": [
    "###### 3. Gradient Boosted Trees Model"
   ]
  },
  {
   "cell_type": "code",
   "execution_count": 40,
   "id": "d8e93d6b",
   "metadata": {},
   "outputs": [],
   "source": [
    "# instantiate GBT model\n",
    "gbt = GBTRegressor(featuresCol=\"scaledFeatures\", labelCol=\"charges\")\n",
    "\n",
    "# do hyperparameter tuning\n",
    "gbtTvs = TrainValidationSplit(\n",
    "        estimator=gbt,\n",
    "        estimatorParamMaps=ParamGridBuilder().addGrid(GBTRegressor.maxDepth, [5, 10, 15, 20]).build(), # maximum depth\n",
    "        evaluator=RegressionEvaluator(labelCol=\"charges\", predictionCol=\"prediction\", metricName=\"rmse\"), # use rmse\n",
    "        trainRatio=0.8\n",
    "    )\n",
    "\n",
    "# Train the model\n",
    "gbtModel = gbtTvs.fit(trainData)"
   ]
  },
  {
   "cell_type": "code",
   "execution_count": 41,
   "id": "6621a148",
   "metadata": {},
   "outputs": [
    {
     "name": "stdout",
     "output_type": "stream",
     "text": [
      "GBT Model RMSE: 4829.812207198568\n",
      "GBT Model R2: 0.8400095843069892\n"
     ]
    }
   ],
   "source": [
    "# evaluate the model\n",
    "RMSEevaluator = RegressionEvaluator(labelCol=\"charges\", predictionCol=\"prediction\", metricName=\"rmse\")\n",
    "R2evaluator = RegressionEvaluator(labelCol=\"charges\", predictionCol=\"prediction\", metricName=\"r2\")\n",
    "\n",
    "# make predictions using the test set\n",
    "gbtPredictions = gbtModel.transform(testData)\n",
    "gbtRMSE = RMSEevaluator.evaluate(gbtPredictions)\n",
    "gbtR2 = R2evaluator.evaluate(gbtPredictions)\n",
    "\n",
    "# Print the model's RMSE and R2\n",
    "print(\"GBT Model RMSE:\", gbtRMSE)\n",
    "print(\"GBT Model R2:\", gbtR2)"
   ]
  },
  {
   "cell_type": "markdown",
   "id": "53866e53",
   "metadata": {},
   "source": [
    "###### Observation\n",
    "The model is very good at predicting the premiums. The predictions are quite accurate."
   ]
  },
  {
   "cell_type": "code",
   "execution_count": 45,
   "id": "26a50787",
   "metadata": {},
   "outputs": [
    {
     "data": {
      "text/html": [
       "<div>\n",
       "<style scoped>\n",
       "    .dataframe tbody tr th:only-of-type {\n",
       "        vertical-align: middle;\n",
       "    }\n",
       "\n",
       "    .dataframe tbody tr th {\n",
       "        vertical-align: top;\n",
       "    }\n",
       "\n",
       "    .dataframe thead th {\n",
       "        text-align: right;\n",
       "    }\n",
       "</style>\n",
       "<table border=\"1\" class=\"dataframe\">\n",
       "  <thead>\n",
       "    <tr style=\"text-align: right;\">\n",
       "      <th></th>\n",
       "      <th>Linear Regression</th>\n",
       "      <th>Random Forest</th>\n",
       "      <th>Gradient Boosting Trees</th>\n",
       "    </tr>\n",
       "  </thead>\n",
       "  <tbody>\n",
       "    <tr>\n",
       "      <th>Root Mean Squared Error</th>\n",
       "      <td>6106.651142</td>\n",
       "      <td>5131.296955</td>\n",
       "      <td>4829.812207</td>\n",
       "    </tr>\n",
       "    <tr>\n",
       "      <th>R-squared</th>\n",
       "      <td>0.744236</td>\n",
       "      <td>0.819412</td>\n",
       "      <td>0.840010</td>\n",
       "    </tr>\n",
       "  </tbody>\n",
       "</table>\n",
       "</div>"
      ],
      "text/plain": [
       "                         Linear Regression  Random Forest  \\\n",
       "Root Mean Squared Error        6106.651142    5131.296955   \n",
       "R-squared                         0.744236       0.819412   \n",
       "\n",
       "                         Gradient Boosting Trees  \n",
       "Root Mean Squared Error              4829.812207  \n",
       "R-squared                               0.840010  "
      ]
     },
     "execution_count": 45,
     "metadata": {},
     "output_type": "execute_result"
    }
   ],
   "source": [
    "#Dataframe of evaluation metrics for all the models\n",
    "evaluation_metrics_df = pd.DataFrame(\n",
    "    {\n",
    "    'Linear Regression': [lrRMSE, lrR2],\n",
    "    'Random Forest': [rfRMSE, rfR2],\n",
    "    'Gradient Boosting Trees': [gbtRMSE, gbtR2]\n",
    "    },\n",
    "    index = ['Root Mean Squared Error', 'R-squared']\n",
    ")\n",
    "\n",
    "#Save it as a table\n",
    "dfi.export(evaluation_metrics_df, \"summary_evaluation_metrics.png\")\n",
    "\n",
    "evaluation_metrics_df"
   ]
  },
  {
   "cell_type": "markdown",
   "id": "cf9efecb",
   "metadata": {},
   "source": [
    "### Best Model Selection\n",
    "- The `Gradient Boosted Trees` model has the lowest RMSE of `4829.8122` followed by the Random Forest model and lastly the Linear Regression model. This indicates that the Gradient Boosted Trees Model is quite accurate in predicting the premiums.\n",
    "- The `Gradient Boosted Trees` model has the highest coefficient of determination of `84.00%` followed by the Random Forest model and lastly the Linear Regression model. This indicates that the Gradient Boosted Trees Model fits the data well.\n",
    "- Based on the Root Mean Squared Error and R-squared, the `Gradient Boosted Trees` model is the best fit model in predicting the `premium amounts` charged those willing to take up insurance based on `age`, `bmi`, `number of children`, `sex`, `smoker_status`, and `region`."
   ]
  }
 ],
 "metadata": {
  "kernelspec": {
   "display_name": "Python 3 (ipykernel)",
   "language": "python",
   "name": "python3"
  },
  "language_info": {
   "codemirror_mode": {
    "name": "ipython",
    "version": 3
   },
   "file_extension": ".py",
   "mimetype": "text/x-python",
   "name": "python",
   "nbconvert_exporter": "python",
   "pygments_lexer": "ipython3",
   "version": "3.9.12"
  }
 },
 "nbformat": 4,
 "nbformat_minor": 5
}
